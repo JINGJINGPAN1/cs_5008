{
 "cells": [
  {
   "cell_type": "markdown",
   "id": "77da5713",
   "metadata": {},
   "source": [
    "<div class=\"alert alert-block alert-warning\"><b><p style=\"font-size: X-large\"><font color=\"orangered\">Instruction:</font></p></b></div>"
   ]
  },
  {
   "cell_type": "markdown",
   "id": "dc4b2dbc",
   "metadata": {},
   "source": [
    "For this Lab, you are going to work on getting your development environment setup with C and git. This will vary slightly for every student, but the goal is to get you comfortable with the tools you will be using for the rest of the semester.\n",
    "\n",
    "For this lab, you will need to make sure the following is in place\n",
    "\n",
    "1. Have your Github.com Account Setup \n",
    "     - Free account is fine\n",
    "     - We recommend a professional email that is not tied to a school, so your account exists after you graduate.\n",
    "\n",
    "\n",
    "2. You will also need git installed ideally on your local system. If you are using a Windows system, you will need to install [Git Bash](https://git-scm.com/downloads). If you are using a Mac or Linux system, you should already have git installed.\n",
    "\n",
    "---"
   ]
  },
  {
   "cell_type": "markdown",
   "id": "79a05d81",
   "metadata": {},
   "source": [
    "<div class=\"alert alert-block alert-warning\"><b><p style=\"font-size: X-large\"><font color=\"orangered\">Work with Github Online</font></p></b></div>"
   ]
  },
  {
   "cell_type": "markdown",
   "id": "dd775e32",
   "metadata": {},
   "source": [
    "\n",
    "   1. Create a GitHub account\n",
    "   2. Create a new repository and add `README.md` file\n",
    "   3. Upload Files to the Repository (via GitHub Web Interface) make sure to click **\"Commit changes\"** after any changes you make on the file/\n",
    "---"
   ]
  },
  {
   "cell_type": "markdown",
   "id": "9020dc92",
   "metadata": {},
   "source": [
    "<div class=\"alert alert-block alert-warning\"><b><p style=\"font-size: X-large\"><font color=\"orangered\">Terminal</font></p></b></div>"
   ]
  },
  {
   "cell_type": "markdown",
   "id": "d824fb69",
   "metadata": {},
   "source": [
    "On the various operating systems, there are terminal applications. These are used to interact with the operating system. For example, you can use the terminal to navigate your file system, and run programs.\n",
    "\n",
    "For Mac OS or Linux, the application is called terminal. For Windows 10 or 11, it is also called terminal, but that runs multiple types of processes. We recommend in the windows terminal, you either use the WSL (Windows Subsystem for Linux) or PowerShell. You can also access your terminal through your IDE, such as VS Code or CLion.\n",
    "\n",
    "If you have it setup right, all of the operating systems should allow the `ls` command. This command will list the files in the current directory.\n",
    "\n",
    "---\n"
   ]
  },
  {
   "cell_type": "markdown",
   "id": "588b31b2",
   "metadata": {},
   "source": [
    "<div class=\"alert alert-block alert-warning\"><b><p style=\"font-size: X-large\"><font color=\"orangered\">The Basic Git Commands in Terminal</font></p></b></div>"
   ]
  },
  {
   "cell_type": "markdown",
   "id": "8485e146",
   "metadata": {},
   "source": [
    "Use these commands as a reference and practice them over time to learn.\n",
    "\n",
    "## `git init`\n",
    "\n",
    "Intializes an empty repository. Starts tracking the files in the current working directory. This is all local!\n",
    "\n",
    "## `git status`\n",
    "\n",
    "The git status command shows the current state of the working directory and staging area, indicating any changes, untracked files, or commits needed. Think of it as like an overview of whats going on!\n",
    "\n",
    "## `git add` \n",
    "\n",
    "Moves files to the staging area. Before running the commit command, we add any changes made.\n",
    "\n",
    "**Example**:\n",
    "\n",
    "```bash\n",
    "git add my_new_file # adds selected files or file\n",
    "git add .           # adds all files in directory\n",
    "```\n",
    "\n",
    "## `git commit`\n",
    "\n",
    "Saves any changes made to the local repository. \n",
    "\n",
    "**Example**:\n",
    "\n",
    "```bash\n",
    "git commit -m \"Your comment\" # always useful to describe what changes you make\n",
    "```\n",
    "\n",
    "## `git remote`\n",
    "\n",
    "Now we are talking about working with remote repositories. The git remote command is used to create, view, and delete connections to other repositories. \n",
    "\n",
    "**Example**:\n",
    "\n",
    "```bash\n",
    "git remote add origin <remote_URL>\n",
    "```\n",
    "\n",
    "## `git clone`\n",
    "\n",
    "The git clone command is used to create a local working copy of an existing remote repository.\n",
    "\n",
    "**Example**:\n",
    "\n",
    "```bash\n",
    "git clone <remote_URL> \n",
    "```\n",
    "## `git pull`\n",
    "\n",
    "The git pull command is used to merge and fetch changes from remote repo to local repo. Git pull origin main copies all files from the main branch of the remote repository.\n",
    "\n",
    "**Example**:\n",
    "\n",
    "```bash\n",
    "git pull origin main\n",
    "```\n",
    "## `git push`\n",
    "\n",
    "This command pushes the changes made that have been committed to the remote repository.\n",
    "\n",
    "**Example**:\n",
    "\n",
    "```bash\n",
    "git push origin main\n",
    "```\n",
    "## `git log`\n",
    "\n",
    "You can run this command to see a literal log of changes made as well as who made those changes. Useful in industry.\n",
    "\n",
    "---\n",
    "\n",
    "#### Resource:\n",
    "More about Git: https://www.simplilearn.com/tutorials/git-tutorial/git-commands\n",
    "\n",
    "Learn the commands: https://git-scm.com/docs\n",
    "\n",
    "---"
   ]
  },
  {
   "cell_type": "markdown",
   "id": "9403ec5a",
   "metadata": {},
   "source": [
    "<div class=\"alert alert-block alert-warning\"><b><p style=\"font-size: X-large\"><font color=\"orangered\">Work with Github Locally </font></p></b></div>"
   ]
  },
  {
   "cell_type": "markdown",
   "id": "459a5e35",
   "metadata": {},
   "source": [
    "To work with the code locally using Git and a code editor like **VS Code**:\n",
    "\n",
    "\n",
    "\n",
    "### <font color=\"orangered\"> 1. Clone the Repository:</font>\n",
    "    \n",
    "  0. Create a Github repo online \"Lab 2\".\n",
    "  1. On your GitHub repository page, click the green **\"Code\"** button.\n",
    "  2. Copy the URL of the repository (either HTTPS or SSH).\n",
    "  3. To bring your repository into your locall machine, you have three options:\n",
    "      - Use the Git Clone feature of VS Code\n",
    "      - Open **VS Code** and use the **its Terminal** to clone the repository to your local machine:\n",
    "     ```bash\n",
    "     git clone https://github.com/your-username/my-repository.git\n",
    "     ```\n",
    "     - You can also open your Terminal in your computer and write the above command.\n",
    "  4. This will create a local copy of the repository on your computer. Go to this repo(folder). Now you are able to create/add files to it.\n",
    "\n",
    "\n",
    "\n"
   ]
  },
  {
   "cell_type": "markdown",
   "id": "aa3725a2",
   "metadata": {},
   "source": [
    "**Note**:\n",
    "The first time using Git, you will have to setup your email and name. You can do this by typing\n",
    "```bash\n",
    "git config --global user.email \"your_email\" \n",
    "git config --global user.name \"your_name\".\n",
    "```"
   ]
  },
  {
   "cell_type": "markdown",
   "id": "baf83380",
   "metadata": {},
   "source": [
    "\n",
    "### <font color=\"orangered\"> 2. Make Changes Locally:</font>\n",
    "\n",
    "In **VS Code** (or any text editor), open the `.c` files and make the necessary changes (e.g., editing code, adding new functionality, etc.). For the C exercise of this lab, you need to open the the second notebook, Lab assignement 2.\n",
    "\n",
    "\n",
    "Once you've made changes to the file(s) locally, you need to **stage** and **commit** those changes before pushing them to GitHub:\n",
    "\n",
    "1. **Stage Changes** (`git add`):\n",
    "To prepare the modified files for commit, use the following command:\n",
    "    ```bash\n",
    "    git add <file-name>  # For a specific file (Pick which changes to save)\n",
    "    git add .            # For all changed files in the directory\n",
    "    ```\n",
    "Staging means you're telling Git which files you want to commit.\n",
    "\n",
    "2. **Commit Changes** (`git commit`):\n",
    "After staging, you need to commit your changes locally. This records the changes with a commit message describing what you’ve done:\n",
    "    ```bash\n",
    "    git commit -m \"Your commit message here\" # Lock those changes into Git's history\n",
    "    ```\n",
    "Commit messages should briefly describe what changes were made, like \"Fixed bug in login feature\" or \"Added new function for sorting.\"\n",
    "\n",
    "**Example Workflow**: \n",
    "\n",
    "Imagine you're working on files: file1.c, file2.c, and file3.c, but only want to commit changes in file1.c and file3.c:\n",
    "\n",
    "```bash\n",
    "git add file1.c  \n",
    "git add file3.c  \n",
    "git commit -m \"Updated file1 and file3\"  \n",
    "```\n",
    "Now, only changes in file1.c and file3.c are committed; changes in file2.c remain uncommitted.\n",
    "\n",
    "**Remark**:\n",
    "- Commit frequently after every major change\n",
    "- Use active/action verbs in your message, that are short yet descriptive\n",
    "    - Here is a BAD commit message: changes made to readme\n",
    "\n",
    "    - Here is an example of a better commit message: Added personal ident info: name, gitname, semester\n",
    "\n",
    "**NOTICE:** All assignments(HW, lab) will need to have at least three commits to earn full points. Most assignments will have many more than that (this is the only one who reaching three may be limited).\n",
    "\n",
    "\n",
    "---"
   ]
  },
  {
   "cell_type": "markdown",
   "id": "7afae91a",
   "metadata": {},
   "source": [
    "### <font color=\"orangered\">3. Push Changes to GitHub</font>\n",
    "\n",
    "Once you have committed your changes locally, you need to push them to your remote repository on GitHub:\n",
    "\n",
    "- **Push to GitHub** (`git push`):\n",
    "  - This uploads your commits to the GitHub repository, making your changes available online:\n",
    "    ```bash\n",
    "    git push origin main\n",
    "    ```\n",
    "  - **Explanation**:\n",
    "    - `origin`: This is the default name for the remote repository.\n",
    "    - `main`: This is the branch you're working on (could be `master` in some cases, but most repositories today use `main`).\n",
    "  \n",
    "  - After running `git push`, your changes will be visible in the GitHub repository.\n",
    "\n",
    "---"
   ]
  },
  {
   "cell_type": "markdown",
   "id": "e7e714f0",
   "metadata": {},
   "source": [
    "\n",
    "\n",
    "### <font color=\"orangered\">4. Optional: Repeat the Process\n",
    "\n",
    "As you continue working on the project:\n",
    "1. **Make changes** in your local files.\n",
    "2. **Stage** those changes with `git add`.\n",
    "3. **Commit** the changes with `git commit -m \"message\"`.\n",
    "4. **Push** the changes back to GitHub with `git push`.\n",
    "\n",
    "This process ensures that you are constantly updating the remote GitHub repository with your latest changes while maintaining a complete history of your work.\n",
    "\n",
    "**Key Notes**:\n",
    "- Staging means choosing what to commit.\n",
    "- Committing means saving those changes to your local Git history.\n",
    "- Pushing means sending those changes to the remote repository, like GitHub.\n",
    "---"
   ]
  },
  {
   "cell_type": "markdown",
   "id": "db6b26eb",
   "metadata": {},
   "source": [
    "<div class=\"alert alert-block alert-warning\"><b><p style=\"font-size: X-large\"><font color=\"orangered\">Options to Work with C </font></p></b></div>"
   ]
  },
  {
   "cell_type": "markdown",
   "id": "3e6e2c89",
   "metadata": {},
   "source": [
    "[Options to use C](https://github.com/CS-5008-Maryam-SP25/Resources/blob/main/InstallC.md)\n",
    "\n",
    "---"
   ]
  },
  {
   "cell_type": "markdown",
   "id": "af8a8b60",
   "metadata": {},
   "source": [
    "# Done!"
   ]
  },
  {
   "cell_type": "code",
   "execution_count": null,
   "id": "c215e0a9",
   "metadata": {},
   "outputs": [],
   "source": []
  }
 ],
 "metadata": {
  "kernelspec": {
   "display_name": "Python 3 (ipykernel)",
   "language": "python",
   "name": "python3"
  },
  "language_info": {
   "codemirror_mode": {
    "name": "ipython",
    "version": 3
   },
   "file_extension": ".py",
   "mimetype": "text/x-python",
   "name": "python",
   "nbconvert_exporter": "python",
   "pygments_lexer": "ipython3",
   "version": "3.11.5"
  }
 },
 "nbformat": 4,
 "nbformat_minor": 5
}
