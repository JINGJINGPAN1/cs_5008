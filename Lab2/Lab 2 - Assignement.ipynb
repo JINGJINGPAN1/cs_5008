{
 "cells": [
  {
   "cell_type": "markdown",
   "id": "77da5713",
   "metadata": {},
   "source": [
    "<div class=\"alert alert-block alert-warning\"><b><p style=\"font-size: X-large\"><font color=\"orangered\">Task 1: Clone the Repo</font></p></b></div>"
   ]
  },
  {
   "cell_type": "markdown",
   "id": "e669b261",
   "metadata": {},
   "source": [
    "- Create a repo on your Github, call it Lab 2.\n",
    "- Create a directory on your computer for CS 5008. For example, `CS 5008`.\n",
    "- Do a git clone request for your Lab 2 repository.\n",
    "    - You can do this by clicking the green \"Code\" button on the main page of your repository, and copying the link using the copy button. \n",
    "    - Then, in your terminal, navigate to your `CS 5008` directory using cd, and type:    \n",
    "```bash \n",
    "git clone <link> \n",
    "```\n",
    "- After it is cloned, take a screen shot of your terminal, and save it as terminal_lastname.png where lastname is your last name and upload it into Gradescope.\n",
    "\n",
    "\n",
    "* **Note**: The first time using Git, you will have to setup your email and name. You can do this by typing:\n",
    "```bash\n",
    "git config --global user.email \"your_email\" \n",
    "git config --global user.name \"your_name\"\n",
    "```\n",
    "\n",
    "\n",
    "\n"
   ]
  },
  {
   "cell_type": "markdown",
   "id": "477668a0",
   "metadata": {},
   "source": [
    "<div class=\"alert alert-block alert-warning\"><b><p style=\"font-size: x-large\"><font color=\"orangered\">Task 2: Mastering Structs, Arrays, and Pointers in C</font></p></b></div>"
   ]
  },
  {
   "cell_type": "markdown",
   "id": "7add9b5f",
   "metadata": {},
   "source": [
    "For this assignement, you have the starter code, replace the ? and //TODO with the correct syntax."
   ]
  },
  {
   "cell_type": "markdown",
   "id": "98b54440",
   "metadata": {},
   "source": [
    "**Step 1:**\n",
    "Create a Student struct with:\n",
    "\n",
    "- A name field (a string with 50 characters).\n",
    "- An array of 3 integers to hold grades.\n",
    "- A float field to store the student's average grade.\n"
   ]
  },
  {
   "cell_type": "code",
   "execution_count": null,
   "id": "189cf378",
   "metadata": {},
   "outputs": [],
   "source": [
    "#include <stdio.h>\n",
    "\n",
    "// Define the Student struct\n",
    "struct Student {\n",
    "    char name[50];\n",
    "    int grades[3];\n",
    "    float average;  // To store the average grade\n",
    "};"
   ]
  },
  {
   "cell_type": "markdown",
   "id": "8b6aeec7",
   "metadata": {},
   "source": [
    "**Step 2:**\n",
    "Write a function calculateAverage that:\n",
    "\n",
    "- Takes a pointer to a Student struct as an argument.\n",
    "- Calculates the average of the student's grades and updates the average field in the struct.\n"
   ]
  },
  {
   "cell_type": "code",
   "execution_count": null,
   "id": "b4cf50d9",
   "metadata": {},
   "outputs": [],
   "source": [
    "// Function to calculate the average (pass-by-reference)\n",
    "\n",
    "void calculateAverage(struct Student *student) {\n",
    "    int sum = 0;\n",
    "    for (int i = 0; i < 3; i++) {\n",
    "        //TODO: calculate the sum;\n",
    "        sum += student->grades[i]\n",
    "    }\n",
    "    student->average = sum / 3.0;  // Calculate and update the average\n",
    "}"
   ]
  },
  {
   "cell_type": "markdown",
   "id": "64e76e8a",
   "metadata": {},
   "source": [
    "**Step 3:**\n",
    "In the main function, create an array of 3 students. Initialize each student's name and grades manually."
   ]
  },
  {
   "cell_type": "code",
   "execution_count": null,
   "id": "83283693",
   "metadata": {},
   "outputs": [],
   "source": [
    "// Main function\n",
    "int main() {\n",
    "    // Create and initialize an array of 3 students\n",
    "    struct Student students[3] = {\n",
    "        {\"Andy\", {85, 90, 78}, 0},\n",
    "        {\"Randy\", {88, 76, 92}, 0},\n",
    "        {\"Sandy\", {70, 80, 75}, 0}\n",
    "    };\n",
    "\n",
    "    // Call calculateAverage for each student\n",
    "    for (int i = 0; i < 3; i++) {\n",
    "        //TODO;  // Pass each student by reference\n",
    "        struct Student *student = &students[i];\n",
    "        calculateAverage(student);\n",
    "    }\n",
    "\n",
    "    // Print student details\n",
    "    for (int i = 0; i < 3; i++) {\n",
    "        printf(\"Name: %s\\n\", students[i].name);\n",
    "        printf(\"Grades: %d, %d, %d\\n\", students[i].grades[0], students[i].grades[1], students[i].grades[2]);\n",
    "        printf(\"Average: %.2f\\n\\n\", students[i].average);\n",
    "    }\n",
    "\n",
    "    return 0;\n",
    "}"
   ]
  },
  {
   "cell_type": "markdown",
   "id": "e62d69cf",
   "metadata": {},
   "source": [
    "**Step 4: Bonus Opportunity**\n",
    "    \n",
    "- Grade Weighting: Allow the user to assign different weights to each grade (e.g., Homework 40%, Quiz 30%, Exam 30%) and then calculate each student's weighted average.\n",
    "\n",
    "- Top Student: After calculating the averages, identify and display the name of the student with the highest average.    "
   ]
  },
  {
   "cell_type": "markdown",
   "id": "5e36a2fe",
   "metadata": {},
   "source": [
    "**Submission**\n",
    "- Make sure that you commit your changes frequently in your repo.\n",
    "- Take a screen shot of your repo with the complete code.\n",
    "- And upload your code into the Gradecope.\n",
    "---"
   ]
  },
  {
   "cell_type": "markdown",
   "id": "cd8b7ee3",
   "metadata": {},
   "source": [
    "# Done!"
   ]
  },
  {
   "cell_type": "code",
   "execution_count": null,
   "id": "8d93fc05",
   "metadata": {},
   "outputs": [],
   "source": []
  }
 ],
 "metadata": {
  "kernelspec": {
   "display_name": "Python 3 (ipykernel)",
   "language": "python",
   "name": "python3"
  },
  "language_info": {
   "codemirror_mode": {
    "name": "ipython",
    "version": 3
   },
   "file_extension": ".py",
   "mimetype": "text/x-python",
   "name": "python",
   "nbconvert_exporter": "python",
   "pygments_lexer": "ipython3",
   "version": "3.11.5"
  }
 },
 "nbformat": 4,
 "nbformat_minor": 5
}
